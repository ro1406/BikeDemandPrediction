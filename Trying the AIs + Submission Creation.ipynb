{
 "cells": [
  {
   "cell_type": "markdown",
   "metadata": {},
   "source": [
    "# Trying the AIs + Submission Creation"
   ]
  },
  {
   "cell_type": "code",
   "execution_count": 1,
   "metadata": {},
   "outputs": [],
   "source": [
    "import pandas as pd\n",
    "import numpy as np\n",
    "import seaborn as sns\n",
    "import matplotlib.pyplot as plt\n",
    "%matplotlib inline"
   ]
  },
  {
   "cell_type": "code",
   "execution_count": 2,
   "metadata": {},
   "outputs": [],
   "source": [
    "class AI:\n",
    "    def __init__(self):\n",
    "        self.model=None\n",
    "        self.acc=None\n",
    "        self.preds=[]\n",
    "        self.time=0\n",
    "        print(\"Model built.\")\n",
    "        \n",
    "    def LinearReg(self):\n",
    "        from sklearn.linear_model import LinearRegression\n",
    "        self.model=LinearRegression()\n",
    "        \n",
    "    def linear(self,c=1): \n",
    "        from sklearn.svm import SVR\n",
    "        self.model=SVR(kernel='linear', C=c)\n",
    "        \n",
    "    def rbf(self,c=1,g='scale'): \n",
    "        from sklearn.svm import SVR\n",
    "        self.model=SVR(kernel='rbf', C=c,gamma=g)\n",
    "        \n",
    "    def poly(self,deg=3): \n",
    "        from sklearn.svm import SVR\n",
    "        self.model=SVR(kernel='poly', degree=deg)\n",
    "        \n",
    "    def decisionTree(self,c='mse'):\n",
    "        from sklearn.tree import DecisionTreeRegressor\n",
    "        self.model=DecisionTreeRegressor(criterion=c)\n",
    "        \n",
    "    def SGDReg(self,pen='l2'):\n",
    "        from sklearn.linear_model import SGDRegressor\n",
    "        self.model=SGDRegressor(penalty=pen)\n",
    "        \n",
    "    def KNN(self,neighs=5):\n",
    "        from sklearn.neighbors import KNeighborsRegressor\n",
    "        self.model=KNeighborsRegressor(n_neighbors=neighs)\n",
    "        \n",
    "    def Ridge(self,a=1.0):\n",
    "        from sklearn.linear_model import Ridge\n",
    "        self.model=Ridge(alpha=a)\n",
    "        \n",
    "    def Lasso(self,a=1.0):\n",
    "        from sklearn.linear_model import Lasso\n",
    "        self.model=Lasso(alpha=a)\n",
    "        \n",
    "    def train(self,x,y):\n",
    "        print(\"Training model...\")\n",
    "        import time\n",
    "        t0= time.time()\n",
    "        self.model.fit(x,y)\n",
    "        self.time=time.time()-t0\n",
    "        print(\"Training completed. Time taken:\", self.time)\n",
    "        \n",
    "    def predict(self,x):\n",
    "        #print(\"Predicting...\")\n",
    "        self.preds=self.model.predict(x)\n",
    "        return (self.preds)\n",
    "    \n",
    "    def evaluate(self,x,y):              #show error for train vs test\n",
    "        from sklearn import metrics\n",
    "        print(\"Evaluating key parameters...\")\n",
    "        self.acc=self.model.score(x,y)\n",
    "        print(\"The accuracy is:\",self.acc)\n",
    "        \n",
    "        print(\"RMSE: \",end='')\n",
    "        rmse=metrics.mean_squared_error(y,self.preds,squared=False)\n",
    "        print(rmse)\n",
    "        \n",
    "        print(\"MSE: \",end=\"\")\n",
    "        mse=metrics.mean_squared_error(y,self.preds)\n",
    "        print(mse)\n",
    "        \n",
    "        print(\"Explained Variance: \",end=\"\")\n",
    "        expVar=metrics.explained_variance_score(y,self.preds)\n",
    "        print(expVar)"
   ]
  },
  {
   "cell_type": "markdown",
   "metadata": {},
   "source": [
    "## Load the data:"
   ]
  },
  {
   "cell_type": "code",
   "execution_count": 3,
   "metadata": {},
   "outputs": [],
   "source": [
    "data=pd.read_csv(\"/bike_sharing_demand_prediction_ai_challenge_-dataset/Outlierless2.csv\")#,index_col=0)"
   ]
  },
  {
   "cell_type": "code",
   "execution_count": 4,
   "metadata": {
    "scrolled": true
   },
   "outputs": [
    {
     "data": {
      "text/html": [
       "<div>\n",
       "<style scoped>\n",
       "    .dataframe tbody tr th:only-of-type {\n",
       "        vertical-align: middle;\n",
       "    }\n",
       "\n",
       "    .dataframe tbody tr th {\n",
       "        vertical-align: top;\n",
       "    }\n",
       "\n",
       "    .dataframe thead th {\n",
       "        text-align: right;\n",
       "    }\n",
       "</style>\n",
       "<table border=\"1\" class=\"dataframe\">\n",
       "  <thead>\n",
       "    <tr style=\"text-align: right;\">\n",
       "      <th></th>\n",
       "      <th>Index</th>\n",
       "      <th>Hour</th>\n",
       "      <th>Temperature(°C)</th>\n",
       "      <th>Humidity(%)</th>\n",
       "      <th>Wind speed (m/s)</th>\n",
       "      <th>Visibility (10m)</th>\n",
       "      <th>Dew point temperature(°C)</th>\n",
       "      <th>Solar Radiation (MJ/m2)</th>\n",
       "      <th>Rainfall(mm)</th>\n",
       "      <th>Snowfall (cm)</th>\n",
       "      <th>Rented Bike Count</th>\n",
       "      <th>Autumn</th>\n",
       "      <th>Spring</th>\n",
       "      <th>Summer</th>\n",
       "      <th>Winter</th>\n",
       "      <th>Holiday</th>\n",
       "      <th>No Holiday</th>\n",
       "      <th>Func _No</th>\n",
       "      <th>Func _Yes</th>\n",
       "    </tr>\n",
       "  </thead>\n",
       "  <tbody>\n",
       "    <tr>\n",
       "      <th>0</th>\n",
       "      <td>0</td>\n",
       "      <td>0</td>\n",
       "      <td>-5.2</td>\n",
       "      <td>37</td>\n",
       "      <td>2.2</td>\n",
       "      <td>2000</td>\n",
       "      <td>-17.6</td>\n",
       "      <td>0.0</td>\n",
       "      <td>0.0</td>\n",
       "      <td>0.0</td>\n",
       "      <td>254</td>\n",
       "      <td>0</td>\n",
       "      <td>0</td>\n",
       "      <td>0</td>\n",
       "      <td>1</td>\n",
       "      <td>0</td>\n",
       "      <td>1</td>\n",
       "      <td>0</td>\n",
       "      <td>1</td>\n",
       "    </tr>\n",
       "    <tr>\n",
       "      <th>1</th>\n",
       "      <td>1</td>\n",
       "      <td>1</td>\n",
       "      <td>-5.5</td>\n",
       "      <td>38</td>\n",
       "      <td>0.8</td>\n",
       "      <td>2000</td>\n",
       "      <td>-17.6</td>\n",
       "      <td>0.0</td>\n",
       "      <td>0.0</td>\n",
       "      <td>0.0</td>\n",
       "      <td>204</td>\n",
       "      <td>0</td>\n",
       "      <td>0</td>\n",
       "      <td>0</td>\n",
       "      <td>1</td>\n",
       "      <td>0</td>\n",
       "      <td>1</td>\n",
       "      <td>0</td>\n",
       "      <td>1</td>\n",
       "    </tr>\n",
       "    <tr>\n",
       "      <th>2</th>\n",
       "      <td>2</td>\n",
       "      <td>2</td>\n",
       "      <td>-6.0</td>\n",
       "      <td>39</td>\n",
       "      <td>1.0</td>\n",
       "      <td>2000</td>\n",
       "      <td>-17.7</td>\n",
       "      <td>0.0</td>\n",
       "      <td>0.0</td>\n",
       "      <td>0.0</td>\n",
       "      <td>173</td>\n",
       "      <td>0</td>\n",
       "      <td>0</td>\n",
       "      <td>0</td>\n",
       "      <td>1</td>\n",
       "      <td>0</td>\n",
       "      <td>1</td>\n",
       "      <td>0</td>\n",
       "      <td>1</td>\n",
       "    </tr>\n",
       "    <tr>\n",
       "      <th>3</th>\n",
       "      <td>3</td>\n",
       "      <td>3</td>\n",
       "      <td>-6.2</td>\n",
       "      <td>40</td>\n",
       "      <td>0.9</td>\n",
       "      <td>2000</td>\n",
       "      <td>-17.6</td>\n",
       "      <td>0.0</td>\n",
       "      <td>0.0</td>\n",
       "      <td>0.0</td>\n",
       "      <td>107</td>\n",
       "      <td>0</td>\n",
       "      <td>0</td>\n",
       "      <td>0</td>\n",
       "      <td>1</td>\n",
       "      <td>0</td>\n",
       "      <td>1</td>\n",
       "      <td>0</td>\n",
       "      <td>1</td>\n",
       "    </tr>\n",
       "    <tr>\n",
       "      <th>4</th>\n",
       "      <td>4</td>\n",
       "      <td>4</td>\n",
       "      <td>-6.0</td>\n",
       "      <td>36</td>\n",
       "      <td>2.3</td>\n",
       "      <td>2000</td>\n",
       "      <td>-18.6</td>\n",
       "      <td>0.0</td>\n",
       "      <td>0.0</td>\n",
       "      <td>0.0</td>\n",
       "      <td>78</td>\n",
       "      <td>0</td>\n",
       "      <td>0</td>\n",
       "      <td>0</td>\n",
       "      <td>1</td>\n",
       "      <td>0</td>\n",
       "      <td>1</td>\n",
       "      <td>0</td>\n",
       "      <td>1</td>\n",
       "    </tr>\n",
       "  </tbody>\n",
       "</table>\n",
       "</div>"
      ],
      "text/plain": [
       "   Index  Hour  Temperature(°C)  Humidity(%)  Wind speed (m/s)  \\\n",
       "0      0     0             -5.2           37               2.2   \n",
       "1      1     1             -5.5           38               0.8   \n",
       "2      2     2             -6.0           39               1.0   \n",
       "3      3     3             -6.2           40               0.9   \n",
       "4      4     4             -6.0           36               2.3   \n",
       "\n",
       "   Visibility (10m)  Dew point temperature(°C)  Solar Radiation (MJ/m2)  \\\n",
       "0              2000                      -17.6                      0.0   \n",
       "1              2000                      -17.6                      0.0   \n",
       "2              2000                      -17.7                      0.0   \n",
       "3              2000                      -17.6                      0.0   \n",
       "4              2000                      -18.6                      0.0   \n",
       "\n",
       "   Rainfall(mm)  Snowfall (cm)  Rented Bike Count  Autumn  Spring  Summer  \\\n",
       "0           0.0            0.0                254       0       0       0   \n",
       "1           0.0            0.0                204       0       0       0   \n",
       "2           0.0            0.0                173       0       0       0   \n",
       "3           0.0            0.0                107       0       0       0   \n",
       "4           0.0            0.0                 78       0       0       0   \n",
       "\n",
       "   Winter  Holiday  No Holiday  Func _No  Func _Yes  \n",
       "0       1        0           1         0          1  \n",
       "1       1        0           1         0          1  \n",
       "2       1        0           1         0          1  \n",
       "3       1        0           1         0          1  \n",
       "4       1        0           1         0          1  "
      ]
     },
     "execution_count": 4,
     "metadata": {},
     "output_type": "execute_result"
    }
   ],
   "source": [
    "data.head()"
   ]
  },
  {
   "cell_type": "code",
   "execution_count": 5,
   "metadata": {},
   "outputs": [
    {
     "data": {
      "text/plain": [
       "6735"
      ]
     },
     "execution_count": 5,
     "metadata": {},
     "output_type": "execute_result"
    }
   ],
   "source": [
    "len(data)"
   ]
  },
  {
   "cell_type": "code",
   "execution_count": 6,
   "metadata": {},
   "outputs": [],
   "source": [
    "x=data.drop(\"Rented Bike Count\",axis=1)\n",
    "y=data['Rented Bike Count']"
   ]
  },
  {
   "cell_type": "code",
   "execution_count": null,
   "metadata": {
    "scrolled": true
   },
   "outputs": [],
   "source": [
    "from sklearn.preprocessing import StandardScaler\n",
    "scaler=StandardScaler()\n",
    "catCols=[\"Index\",\"Autumn\",\"Spring\",\"Summer\",\"Winter\",\"Holiday\",\"No Holiday\",\"Func _No\",\"Func _Yes\"]\n",
    "wanted=list(set(x.columns)-set(catCols))\n",
    "xscaled=scaler.fit_transform(x[wanted])\n",
    "xscaled=pd.DataFrame(xscaled,columns=wanted)\n",
    "print(len(xscaled))\n",
    "for i in catCols:\n",
    "    print(len(x[i]))\n",
    "    xscaled=pd.merge(xscaled,x[i],on='Index')\n",
    "    #print(len(xscaled))\n",
    "xscaled"
   ]
  },
  {
   "cell_type": "code",
   "execution_count": null,
   "metadata": {},
   "outputs": [],
   "source": [
    "print(len(xscaled))\n",
    "print(len(y))"
   ]
  },
  {
   "cell_type": "code",
   "execution_count": null,
   "metadata": {},
   "outputs": [],
   "source": [
    "from sklearn.model_selection import train_test_split"
   ]
  },
  {
   "cell_type": "code",
   "execution_count": null,
   "metadata": {
    "scrolled": true
   },
   "outputs": [],
   "source": [
    "xtrain,xtest,ytrain,ytest = train_test_split(xscaled,y, test_size=0.2)"
   ]
  },
  {
   "cell_type": "markdown",
   "metadata": {},
   "source": [
    "## Try models:"
   ]
  },
  {
   "cell_type": "code",
   "execution_count": 150,
   "metadata": {},
   "outputs": [
    {
     "name": "stdout",
     "output_type": "stream",
     "text": [
      "Model built.\n",
      "LinearReg\n",
      "Training model...\n",
      "Training completed. Time taken: 0.00496220588684082\n",
      "Evaluating key parameters...\n",
      "The accuracy is: 0.5451452113388114\n",
      "RMSE: 424.9437127668362\n",
      "MSE: 180577.15902006338\n",
      "Explained Variance: 0.5456650181129261\n",
      "--------------------------------------------------\n",
      "\n",
      "Model built.\n",
      "rbf\n",
      "Training model...\n",
      "Training completed. Time taken: 1.1758885383605957\n",
      "Evaluating key parameters...\n",
      "The accuracy is: -0.0837615620672798\n",
      "RMSE: 655.9366451756468\n",
      "MSE: 430252.8824842824\n",
      "Explained Variance: 0.02877455609202073\n",
      "--------------------------------------------------\n",
      "\n",
      "Model built.\n",
      "poly\n",
      "Training model...\n",
      "Training completed. Time taken: 0.7899184226989746\n",
      "Evaluating key parameters...\n",
      "The accuracy is: -0.09204934453274327\n",
      "RMSE: 658.4399202837445\n",
      "MSE: 433543.12862326385\n",
      "Explained Variance: 0.0236960153514435\n",
      "--------------------------------------------------\n",
      "\n",
      "Model built.\n",
      "dt\n",
      "Training model...\n",
      "Training completed. Time taken: 0.029919862747192383\n",
      "Evaluating key parameters...\n",
      "The accuracy is: 0.7528568877204889\n",
      "RMSE: 313.23427527985586\n",
      "MSE: 98115.71121009652\n",
      "Explained Variance: 0.7532292309504487\n",
      "--------------------------------------------------\n",
      "\n",
      "Model built.\n",
      "ridge\n",
      "Training model...\n",
      "Training completed. Time taken: 0.002007722854614258\n",
      "Evaluating key parameters...\n",
      "The accuracy is: 0.5452019487766058\n",
      "RMSE: 424.91720873744146\n",
      "MSE: 180554.6342812184\n",
      "Explained Variance: 0.5457195886566701\n",
      "--------------------------------------------------\n",
      "\n",
      "Model built.\n",
      "lasso\n",
      "Training model...\n",
      "Training completed. Time taken: 0.03989219665527344\n",
      "Evaluating key parameters...\n",
      "The accuracy is: 0.5454432165161314\n",
      "RMSE: 424.80448572315066\n",
      "MSE: 180458.85109051052\n",
      "Explained Variance: 0.545919814078875\n",
      "--------------------------------------------------\n",
      "\n",
      "Model built.\n",
      "knn\n",
      "Training model...\n",
      "Training completed. Time taken: 0.019946813583374023\n",
      "Evaluating key parameters...\n",
      "The accuracy is: 0.597028358087345\n",
      "RMSE: 399.9744637728497\n",
      "MSE: 159979.57167037862\n",
      "Explained Variance: 0.59747600197097\n",
      "--------------------------------------------------\n",
      "\n",
      "Model built.\n",
      "sgd\n",
      "Training model...\n",
      "Training completed. Time taken: 0.06981468200683594\n",
      "Evaluating key parameters...\n",
      "The accuracy is: -1.546719273855677e+24\n",
      "RMSE: 783611446167106.1\n",
      "MSE: 6.1404689856410345e+29\n",
      "Explained Variance: -2.3035501610000285e+23\n",
      "--------------------------------------------------\n",
      "\n"
     ]
    }
   ],
   "source": [
    "allmods=['LinearReg','rbf','poly','dt','ridge','lasso','knn','sgd']\n",
    "for i in allmods:\n",
    "    model=AI()\n",
    "    print(i)\n",
    "    if i=='LinearReg':\n",
    "        model.LinearReg()\n",
    "    elif i=='rbf':\n",
    "        model.rbf()\n",
    "    elif i=='poly':\n",
    "        model.poly()\n",
    "    elif i=='dt':\n",
    "        model.decisionTree()\n",
    "    elif i==\"ridge\":\n",
    "        model.Ridge()\n",
    "    elif i=='lasso':\n",
    "        model.Lasso()\n",
    "    elif i=='knn':\n",
    "        model.KNN()\n",
    "    elif i=='sgd':\n",
    "        model.SGDReg()\n",
    "        \n",
    "    model.train(xtrain,ytrain)\n",
    "    model.predict(xtest)\n",
    "    model.evaluate(xtest,ytest)\n",
    "    print('-'*50)\n",
    "    print()"
   ]
  },
  {
   "cell_type": "code",
   "execution_count": 151,
   "metadata": {},
   "outputs": [],
   "source": [
    "from sklearn.ensemble import RandomForestRegressor"
   ]
  },
  {
   "cell_type": "code",
   "execution_count": 152,
   "metadata": {},
   "outputs": [],
   "source": [
    "model=RandomForestRegressor(n_estimators=50)\n",
    "model.fit(xtrain,ytrain)\n",
    "preds=model.predict(xtest)"
   ]
  },
  {
   "cell_type": "code",
   "execution_count": 153,
   "metadata": {
    "scrolled": true
   },
   "outputs": [
    {
     "name": "stdout",
     "output_type": "stream",
     "text": [
      "The accuracy is:  0.8475958447550314\n",
      "RMSE:  245.97639170099038\n"
     ]
    }
   ],
   "source": [
    "import sklearn\n",
    "print(\"The accuracy is: \",model.score(xtest,ytest))\n",
    "print(\"RMSE: \",sklearn.metrics.mean_squared_error(ytest,preds,squared=False))"
   ]
  },
  {
   "cell_type": "code",
   "execution_count": 154,
   "metadata": {},
   "outputs": [
    {
     "name": "stdout",
     "output_type": "stream",
     "text": [
      "TRAINING: \n",
      "The accuracy is:  0.9819471479895359\n",
      "RMSE:  88.88067028847155\n"
     ]
    }
   ],
   "source": [
    "print(\"TRAINING: \")\n",
    "print(\"The accuracy is: \",model.score(xtrain,ytrain))\n",
    "preds=model.predict(xtrain)\n",
    "print(\"RMSE: \",sklearn.metrics.mean_squared_error(ytrain,preds,squared=False))"
   ]
  },
  {
   "cell_type": "code",
   "execution_count": 155,
   "metadata": {},
   "outputs": [],
   "source": [
    "from sklearn.ensemble import AdaBoostRegressor\n",
    "from sklearn.svm import SVR\n",
    "from sklearn.neighbors import KNeighborsRegressor"
   ]
  },
  {
   "cell_type": "code",
   "execution_count": 156,
   "metadata": {},
   "outputs": [
    {
     "data": {
      "text/plain": [
       "AdaBoostRegressor(base_estimator=RandomForestRegressor(n_estimators=50),\n",
       "                  loss='square', n_estimators=100)"
      ]
     },
     "execution_count": 156,
     "metadata": {},
     "output_type": "execute_result"
    }
   ],
   "source": [
    "model=AdaBoostRegressor(base_estimator=RandomForestRegressor(n_estimators=50),loss='square',n_estimators=100)\n",
    "model.fit(xtrain,ytrain)\n",
    "#preds=model.predict(xtest)"
   ]
  },
  {
   "cell_type": "code",
   "execution_count": 157,
   "metadata": {},
   "outputs": [
    {
     "name": "stdout",
     "output_type": "stream",
     "text": [
      "TRAINING: \n",
      "The accuracy is:  0.9831376000480473\n",
      "RMSE:  85.90018578280501\n"
     ]
    }
   ],
   "source": [
    "import sklearn\n",
    "print(\"TRAINING: \")\n",
    "print(\"The accuracy is: \",model.score(xtrain,ytrain))\n",
    "preds=model.predict(xtrain)\n",
    "print(\"RMSE: \",sklearn.metrics.mean_squared_error(ytrain,preds,squared=False))"
   ]
  },
  {
   "cell_type": "code",
   "execution_count": 158,
   "metadata": {},
   "outputs": [
    {
     "name": "stdout",
     "output_type": "stream",
     "text": [
      "TESTING: \n",
      "The accuracy is:  0.8515789846361406\n",
      "RMSE:  242.74076794691808\n"
     ]
    }
   ],
   "source": [
    "print(\"TESTING: \")\n",
    "print(\"The accuracy is: \",model.score(xtest,ytest))\n",
    "preds=model.predict(xtest)\n",
    "print(\"RMSE: \",sklearn.metrics.mean_squared_error(ytest,preds,squared=False))"
   ]
  },
  {
   "cell_type": "code",
   "execution_count": null,
   "metadata": {},
   "outputs": [],
   "source": []
  },
  {
   "cell_type": "markdown",
   "metadata": {},
   "source": [
    "## Do Exam and Save Results:"
   ]
  },
  {
   "cell_type": "code",
   "execution_count": 136,
   "metadata": {},
   "outputs": [],
   "source": [
    "exam=pd.read_csv(\"/bike_sharing_demand_prediction_ai_challenge_-dataset/TEST.csv\",index_col=0)"
   ]
  },
  {
   "cell_type": "code",
   "execution_count": 137,
   "metadata": {},
   "outputs": [
    {
     "data": {
      "text/html": [
       "<div>\n",
       "<style scoped>\n",
       "    .dataframe tbody tr th:only-of-type {\n",
       "        vertical-align: middle;\n",
       "    }\n",
       "\n",
       "    .dataframe tbody tr th {\n",
       "        vertical-align: top;\n",
       "    }\n",
       "\n",
       "    .dataframe thead th {\n",
       "        text-align: right;\n",
       "    }\n",
       "</style>\n",
       "<table border=\"1\" class=\"dataframe\">\n",
       "  <thead>\n",
       "    <tr style=\"text-align: right;\">\n",
       "      <th></th>\n",
       "      <th>Date</th>\n",
       "      <th>Hour</th>\n",
       "      <th>Temperature(°C)</th>\n",
       "      <th>Humidity(%)</th>\n",
       "      <th>Wind speed (m/s)</th>\n",
       "      <th>Visibility (10m)</th>\n",
       "      <th>Dew point temperature(°C)</th>\n",
       "      <th>Solar Radiation (MJ/m2)</th>\n",
       "      <th>Rainfall(mm)</th>\n",
       "      <th>Snowfall (cm)</th>\n",
       "      <th>Seasons</th>\n",
       "      <th>Holiday</th>\n",
       "      <th>Functioning Day</th>\n",
       "    </tr>\n",
       "    <tr>\n",
       "      <th>Index</th>\n",
       "      <th></th>\n",
       "      <th></th>\n",
       "      <th></th>\n",
       "      <th></th>\n",
       "      <th></th>\n",
       "      <th></th>\n",
       "      <th></th>\n",
       "      <th></th>\n",
       "      <th></th>\n",
       "      <th></th>\n",
       "      <th></th>\n",
       "      <th></th>\n",
       "      <th></th>\n",
       "    </tr>\n",
       "  </thead>\n",
       "  <tbody>\n",
       "    <tr>\n",
       "      <th>0</th>\n",
       "      <td>20/09/2018</td>\n",
       "      <td>0</td>\n",
       "      <td>20.1</td>\n",
       "      <td>58</td>\n",
       "      <td>0.3</td>\n",
       "      <td>2000</td>\n",
       "      <td>11.5</td>\n",
       "      <td>0.0</td>\n",
       "      <td>0.0</td>\n",
       "      <td>0.0</td>\n",
       "      <td>Autumn</td>\n",
       "      <td>No Holiday</td>\n",
       "      <td>Yes</td>\n",
       "    </tr>\n",
       "    <tr>\n",
       "      <th>1</th>\n",
       "      <td>20/09/2018</td>\n",
       "      <td>1</td>\n",
       "      <td>20.0</td>\n",
       "      <td>59</td>\n",
       "      <td>1.1</td>\n",
       "      <td>1999</td>\n",
       "      <td>11.7</td>\n",
       "      <td>0.0</td>\n",
       "      <td>0.0</td>\n",
       "      <td>0.0</td>\n",
       "      <td>Autumn</td>\n",
       "      <td>No Holiday</td>\n",
       "      <td>Yes</td>\n",
       "    </tr>\n",
       "    <tr>\n",
       "      <th>2</th>\n",
       "      <td>20/09/2018</td>\n",
       "      <td>2</td>\n",
       "      <td>19.9</td>\n",
       "      <td>64</td>\n",
       "      <td>1.5</td>\n",
       "      <td>1755</td>\n",
       "      <td>12.8</td>\n",
       "      <td>0.0</td>\n",
       "      <td>0.0</td>\n",
       "      <td>0.0</td>\n",
       "      <td>Autumn</td>\n",
       "      <td>No Holiday</td>\n",
       "      <td>Yes</td>\n",
       "    </tr>\n",
       "    <tr>\n",
       "      <th>3</th>\n",
       "      <td>20/09/2018</td>\n",
       "      <td>3</td>\n",
       "      <td>19.6</td>\n",
       "      <td>72</td>\n",
       "      <td>1.7</td>\n",
       "      <td>1140</td>\n",
       "      <td>14.4</td>\n",
       "      <td>0.0</td>\n",
       "      <td>0.0</td>\n",
       "      <td>0.0</td>\n",
       "      <td>Autumn</td>\n",
       "      <td>No Holiday</td>\n",
       "      <td>Yes</td>\n",
       "    </tr>\n",
       "    <tr>\n",
       "      <th>4</th>\n",
       "      <td>20/09/2018</td>\n",
       "      <td>4</td>\n",
       "      <td>19.6</td>\n",
       "      <td>74</td>\n",
       "      <td>1.4</td>\n",
       "      <td>847</td>\n",
       "      <td>14.8</td>\n",
       "      <td>0.0</td>\n",
       "      <td>0.0</td>\n",
       "      <td>0.0</td>\n",
       "      <td>Autumn</td>\n",
       "      <td>No Holiday</td>\n",
       "      <td>Yes</td>\n",
       "    </tr>\n",
       "  </tbody>\n",
       "</table>\n",
       "</div>"
      ],
      "text/plain": [
       "             Date  Hour  Temperature(°C)  Humidity(%)  Wind speed (m/s)  \\\n",
       "Index                                                                     \n",
       "0      20/09/2018     0             20.1           58               0.3   \n",
       "1      20/09/2018     1             20.0           59               1.1   \n",
       "2      20/09/2018     2             19.9           64               1.5   \n",
       "3      20/09/2018     3             19.6           72               1.7   \n",
       "4      20/09/2018     4             19.6           74               1.4   \n",
       "\n",
       "       Visibility (10m)  Dew point temperature(°C)  Solar Radiation (MJ/m2)  \\\n",
       "Index                                                                         \n",
       "0                  2000                       11.5                      0.0   \n",
       "1                  1999                       11.7                      0.0   \n",
       "2                  1755                       12.8                      0.0   \n",
       "3                  1140                       14.4                      0.0   \n",
       "4                   847                       14.8                      0.0   \n",
       "\n",
       "       Rainfall(mm)  Snowfall (cm) Seasons     Holiday Functioning Day  \n",
       "Index                                                                   \n",
       "0               0.0            0.0  Autumn  No Holiday             Yes  \n",
       "1               0.0            0.0  Autumn  No Holiday             Yes  \n",
       "2               0.0            0.0  Autumn  No Holiday             Yes  \n",
       "3               0.0            0.0  Autumn  No Holiday             Yes  \n",
       "4               0.0            0.0  Autumn  No Holiday             Yes  "
      ]
     },
     "execution_count": 137,
     "metadata": {},
     "output_type": "execute_result"
    }
   ],
   "source": [
    "exam.head()"
   ]
  },
  {
   "cell_type": "code",
   "execution_count": 138,
   "metadata": {},
   "outputs": [],
   "source": [
    "szns=pd.get_dummies(exam['Seasons'])\n",
    "holi=pd.get_dummies(exam['Holiday'])\n",
    "funcday=pd.get_dummies(exam['Functioning Day'],prefix=\"Func \")\n",
    "\n",
    "exam.drop([\"Seasons\",\"Holiday\",\"Functioning Day\",'Date'],axis=1,inplace=True)\n",
    "zeros=[0 for i in range(len(exam))]\n",
    "extraszns=pd.DataFrame({'Spring':zeros,'Summer':zeros,'Winter':zeros})\n",
    "\n",
    "exam=pd.concat([exam,szns,extraszns,holi,funcday],axis=1)"
   ]
  },
  {
   "cell_type": "code",
   "execution_count": 139,
   "metadata": {
    "scrolled": true
   },
   "outputs": [
    {
     "data": {
      "text/html": [
       "<div>\n",
       "<style scoped>\n",
       "    .dataframe tbody tr th:only-of-type {\n",
       "        vertical-align: middle;\n",
       "    }\n",
       "\n",
       "    .dataframe tbody tr th {\n",
       "        vertical-align: top;\n",
       "    }\n",
       "\n",
       "    .dataframe thead th {\n",
       "        text-align: right;\n",
       "    }\n",
       "</style>\n",
       "<table border=\"1\" class=\"dataframe\">\n",
       "  <thead>\n",
       "    <tr style=\"text-align: right;\">\n",
       "      <th></th>\n",
       "      <th>Hour</th>\n",
       "      <th>Temperature(°C)</th>\n",
       "      <th>Humidity(%)</th>\n",
       "      <th>Wind speed (m/s)</th>\n",
       "      <th>Visibility (10m)</th>\n",
       "      <th>Dew point temperature(°C)</th>\n",
       "      <th>Solar Radiation (MJ/m2)</th>\n",
       "      <th>Rainfall(mm)</th>\n",
       "      <th>Snowfall (cm)</th>\n",
       "      <th>Autumn</th>\n",
       "      <th>Spring</th>\n",
       "      <th>Summer</th>\n",
       "      <th>Winter</th>\n",
       "      <th>Holiday</th>\n",
       "      <th>No Holiday</th>\n",
       "      <th>Func _No</th>\n",
       "      <th>Func _Yes</th>\n",
       "    </tr>\n",
       "  </thead>\n",
       "  <tbody>\n",
       "    <tr>\n",
       "      <th>0</th>\n",
       "      <td>0</td>\n",
       "      <td>20.1</td>\n",
       "      <td>58</td>\n",
       "      <td>0.3</td>\n",
       "      <td>2000</td>\n",
       "      <td>11.5</td>\n",
       "      <td>0.0</td>\n",
       "      <td>0.0</td>\n",
       "      <td>0.0</td>\n",
       "      <td>1</td>\n",
       "      <td>0</td>\n",
       "      <td>0</td>\n",
       "      <td>0</td>\n",
       "      <td>0</td>\n",
       "      <td>1</td>\n",
       "      <td>0</td>\n",
       "      <td>1</td>\n",
       "    </tr>\n",
       "    <tr>\n",
       "      <th>1</th>\n",
       "      <td>1</td>\n",
       "      <td>20.0</td>\n",
       "      <td>59</td>\n",
       "      <td>1.1</td>\n",
       "      <td>1999</td>\n",
       "      <td>11.7</td>\n",
       "      <td>0.0</td>\n",
       "      <td>0.0</td>\n",
       "      <td>0.0</td>\n",
       "      <td>1</td>\n",
       "      <td>0</td>\n",
       "      <td>0</td>\n",
       "      <td>0</td>\n",
       "      <td>0</td>\n",
       "      <td>1</td>\n",
       "      <td>0</td>\n",
       "      <td>1</td>\n",
       "    </tr>\n",
       "    <tr>\n",
       "      <th>2</th>\n",
       "      <td>2</td>\n",
       "      <td>19.9</td>\n",
       "      <td>64</td>\n",
       "      <td>1.5</td>\n",
       "      <td>1755</td>\n",
       "      <td>12.8</td>\n",
       "      <td>0.0</td>\n",
       "      <td>0.0</td>\n",
       "      <td>0.0</td>\n",
       "      <td>1</td>\n",
       "      <td>0</td>\n",
       "      <td>0</td>\n",
       "      <td>0</td>\n",
       "      <td>0</td>\n",
       "      <td>1</td>\n",
       "      <td>0</td>\n",
       "      <td>1</td>\n",
       "    </tr>\n",
       "    <tr>\n",
       "      <th>3</th>\n",
       "      <td>3</td>\n",
       "      <td>19.6</td>\n",
       "      <td>72</td>\n",
       "      <td>1.7</td>\n",
       "      <td>1140</td>\n",
       "      <td>14.4</td>\n",
       "      <td>0.0</td>\n",
       "      <td>0.0</td>\n",
       "      <td>0.0</td>\n",
       "      <td>1</td>\n",
       "      <td>0</td>\n",
       "      <td>0</td>\n",
       "      <td>0</td>\n",
       "      <td>0</td>\n",
       "      <td>1</td>\n",
       "      <td>0</td>\n",
       "      <td>1</td>\n",
       "    </tr>\n",
       "    <tr>\n",
       "      <th>4</th>\n",
       "      <td>4</td>\n",
       "      <td>19.6</td>\n",
       "      <td>74</td>\n",
       "      <td>1.4</td>\n",
       "      <td>847</td>\n",
       "      <td>14.8</td>\n",
       "      <td>0.0</td>\n",
       "      <td>0.0</td>\n",
       "      <td>0.0</td>\n",
       "      <td>1</td>\n",
       "      <td>0</td>\n",
       "      <td>0</td>\n",
       "      <td>0</td>\n",
       "      <td>0</td>\n",
       "      <td>1</td>\n",
       "      <td>0</td>\n",
       "      <td>1</td>\n",
       "    </tr>\n",
       "  </tbody>\n",
       "</table>\n",
       "</div>"
      ],
      "text/plain": [
       "   Hour  Temperature(°C)  Humidity(%)  Wind speed (m/s)  Visibility (10m)  \\\n",
       "0     0             20.1           58               0.3              2000   \n",
       "1     1             20.0           59               1.1              1999   \n",
       "2     2             19.9           64               1.5              1755   \n",
       "3     3             19.6           72               1.7              1140   \n",
       "4     4             19.6           74               1.4               847   \n",
       "\n",
       "   Dew point temperature(°C)  Solar Radiation (MJ/m2)  Rainfall(mm)  \\\n",
       "0                       11.5                      0.0           0.0   \n",
       "1                       11.7                      0.0           0.0   \n",
       "2                       12.8                      0.0           0.0   \n",
       "3                       14.4                      0.0           0.0   \n",
       "4                       14.8                      0.0           0.0   \n",
       "\n",
       "   Snowfall (cm)  Autumn  Spring  Summer  Winter  Holiday  No Holiday  \\\n",
       "0            0.0       1       0       0       0        0           1   \n",
       "1            0.0       1       0       0       0        0           1   \n",
       "2            0.0       1       0       0       0        0           1   \n",
       "3            0.0       1       0       0       0        0           1   \n",
       "4            0.0       1       0       0       0        0           1   \n",
       "\n",
       "   Func _No  Func _Yes  \n",
       "0         0          1  \n",
       "1         0          1  \n",
       "2         0          1  \n",
       "3         0          1  \n",
       "4         0          1  "
      ]
     },
     "execution_count": 139,
     "metadata": {},
     "output_type": "execute_result"
    }
   ],
   "source": [
    "exam.head()"
   ]
  },
  {
   "cell_type": "code",
   "execution_count": 140,
   "metadata": {},
   "outputs": [],
   "source": [
    "for i in range(len(exam.columns)):\n",
    "    if exam.columns[i] not in data.columns:\n",
    "        print(exams.columns[i])\n",
    "        break"
   ]
  },
  {
   "cell_type": "code",
   "execution_count": 141,
   "metadata": {
    "scrolled": true
   },
   "outputs": [],
   "source": [
    "examans=model.predict(exam)"
   ]
  },
  {
   "cell_type": "code",
   "execution_count": 142,
   "metadata": {},
   "outputs": [
    {
     "data": {
      "text/plain": [
       "array([844.4 , 657.38, 428.34, ..., 470.5 , 384.34, 363.76])"
      ]
     },
     "execution_count": 142,
     "metadata": {},
     "output_type": "execute_result"
    }
   ],
   "source": [
    "examans"
   ]
  },
  {
   "cell_type": "code",
   "execution_count": 143,
   "metadata": {},
   "outputs": [
    {
     "name": "stdout",
     "output_type": "stream",
     "text": [
      "Mean: 642.6762847222222\n",
      "Std div: 484.2083740554367\n"
     ]
    }
   ],
   "source": [
    "print(\"Mean:\",examans.mean())\n",
    "print(\"Std div:\", examans.std())"
   ]
  },
  {
   "cell_type": "code",
   "execution_count": 144,
   "metadata": {},
   "outputs": [],
   "source": [
    "myfile=open(\"/bike_sharing_demand_prediction_ai_challenge_-dataset/Submission5 - No outs2+ Ada w RandFor.csv\",\"w\")\n",
    "myfile.write(\"Index,Rented Bike Count\\n\")\n",
    "for i in range(len(examans)):\n",
    "    myfile.write(str(i)+\",\"+str(examans[i])+\"\\n\")\n",
    "myfile.close()"
   ]
  },
  {
   "cell_type": "code",
   "execution_count": null,
   "metadata": {},
   "outputs": [],
   "source": []
  }
 ],
 "metadata": {
  "kernelspec": {
   "display_name": "Python 3",
   "language": "python",
   "name": "python3"
  },
  "language_info": {
   "codemirror_mode": {
    "name": "ipython",
    "version": 3
   },
   "file_extension": ".py",
   "mimetype": "text/x-python",
   "name": "python",
   "nbconvert_exporter": "python",
   "pygments_lexer": "ipython3",
   "version": "3.7.7"
  }
 },
 "nbformat": 4,
 "nbformat_minor": 4
}
